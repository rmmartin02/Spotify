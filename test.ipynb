{
 "cells": [
  {
   "cell_type": "code",
   "execution_count": 6,
   "outputs": [],
   "source": [
    "import sys\n",
    "import spotipy\n",
    "import spotipy.util as util\n",
    "\n",
    "USERNAME = 'swikoka' #your spotify username\n",
    "CLIENT_ID = '2a3e62512d6845a5a66aa72cc821c931'#set at your developer account\n",
    "CLIENT_SECRET = '6a365d0ba9434c4fad1f923149161dba' #set at your developer account\n",
    "REDIRECT_URI = 'http://localhost:8000' #set at your developer account, usually \"http://localhost:8000\"\n",
    "SCOPE = 'user-library-read' # or else"
   ],
   "metadata": {
    "collapsed": false,
    "pycharm": {
     "name": "#%%\n",
     "is_executing": false
    }
   }
  },
  {
   "cell_type": "code",
   "execution_count": 7,
   "outputs": [
    {
     "name": "stdout",
     "text": [
      "\n",
      "\n",
      "            User authentication requires interaction with your\n",
      "            web browser. Once you enter your credentials and\n",
      "            give authorization, you will be redirected to\n",
      "            a url.  Paste that url you were directed to to\n",
      "            complete the authorization.\n",
      "\n",
      "        \n",
      "Opened https://accounts.spotify.com/authorize?client_id=2a3e62512d6845a5a66aa72cc821c931&response_type=code&redirect_uri=http%3A%2F%2Flocalhost%3A8000&scope=user-library-read in your browser\n",
      "\n",
      "\n",
      "\n",
      "\n"
     ],
     "output_type": "stream"
    }
   ],
   "source": [
    "token = util.prompt_for_user_token(username = USERNAME, \n",
    "                                   scope = SCOPE, \n",
    "                                   client_id = CLIENT_ID, \n",
    "                                   client_secret = CLIENT_SECRET, \n",
    "                                   redirect_uri = REDIRECT_URI)\n",
    "\n",
    "if token:\n",
    "   sp = spotipy.Spotify(auth=token)"
   ],
   "metadata": {
    "collapsed": false,
    "pycharm": {
     "name": "#%%\n",
     "is_executing": false
    }
   }
  },
  {
   "cell_type": "code",
   "execution_count": 12,
   "outputs": [
    {
     "name": "stdout",
     "text": [
      "Those Kinda Nights (feat. Ed Sheeran) - Eminem\n",
      "Darkness - Eminem\n",
      "Godzilla (feat. Juice WRLD) - Eminem\n",
      "Thought It Was a Drought - Future\n",
      "Crazy Rap (Colt 45 & 2 Zig Zags) - Afroman\n",
      "Medusa - Dirty Heads\n",
      "New Ish (feat. Akt Aktion) - Odd Squad Family\n",
      "Fuck That Bitch - Horseshoe G.A.N.G.\n",
      "Jimmy Choo - Fetty Wap\n",
      "Kaancepts 2 - K.A.A.N.\n",
      "DEVASTATED - Joey Bada$$\n",
      "Me, Myself & I - G-Eazy\n",
      "Dreams and Nightmares - Meek Mill\n",
      "Ultralight Beam - Kanye West\n",
      "44 More - Logic\n",
      "Knockout - Yung Gravy\n",
      "Ditty - Freddie Dredd\n",
      "Last Resort - Papa Roach\n",
      "Often - The Weeknd\n",
      "She's Kinda Hot - 5 Seconds of Summer\n"
     ],
     "output_type": "stream"
    }
   ],
   "source": [
    "results = sp.current_user_saved_tracks(20,20)\n",
    "for item in results['items']:\n",
    "    track = item['track']\n",
    "    print(track['name'] + ' - ' + track['artists'][0]['name'])\n"
   ],
   "metadata": {
    "collapsed": false,
    "pycharm": {
     "name": "#%%\n",
     "is_executing": false
    }
   }
  }
 ],
 "metadata": {
  "kernelspec": {
   "display_name": "Python 3",
   "language": "python",
   "name": "python3"
  },
  "language_info": {
   "codemirror_mode": {
    "name": "ipython",
    "version": 2
   },
   "file_extension": ".py",
   "mimetype": "text/x-python",
   "name": "python",
   "nbconvert_exporter": "python",
   "pygments_lexer": "ipython2",
   "version": "2.7.6"
  },
  "pycharm": {
   "stem_cell": {
    "cell_type": "raw",
    "source": [],
    "metadata": {
     "collapsed": false
    }
   }
  }
 },
 "nbformat": 4,
 "nbformat_minor": 0
}